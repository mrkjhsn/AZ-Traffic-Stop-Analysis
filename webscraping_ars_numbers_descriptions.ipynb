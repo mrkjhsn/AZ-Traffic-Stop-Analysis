{
 "cells": [
  {
   "cell_type": "code",
   "execution_count": 2,
   "metadata": {},
   "outputs": [],
   "source": [
    "import requests\n",
    "import pandas as pd\n",
    "from bs4 import BeautifulSoup\n",
    "\n",
    "pd.set_option('display.max_colwidth', -1)"
   ]
  },
  {
   "cell_type": "code",
   "execution_count": 3,
   "metadata": {},
   "outputs": [],
   "source": [
    "url = 'https://www.azleg.gov/arsDetail/?title=13'\n",
    "html = requests.get(url).content\n",
    "soup = BeautifulSoup(html, 'html.parser')"
   ]
  },
  {
   "cell_type": "code",
   "execution_count": 4,
   "metadata": {},
   "outputs": [],
   "source": [
    "# iterate through ars numbers \n",
    "# pack them into a list\n",
    "ars_number = []\n",
    "for row in soup.find_all(\"a\", {\"class\": \"stat\"}, text=True):\n",
    "     ars_number.append(row.get_text())\n",
    "\n",
    "\n",
    "# iterate through ars descriptions \n",
    "# pack them into a list\n",
    "description = []\n",
    "for row in soup.find_all(\"li\", {\"class\": \"colright\"}, text=True):\n",
    "    description.append(row.get_text())"
   ]
  },
  {
   "cell_type": "code",
   "execution_count": 5,
   "metadata": {},
   "outputs": [],
   "source": [
    "# create dataframe from lists\n",
    "ars_numbers_descriptions = pd.DataFrame({'ars_number': ars_number,\n",
    "                          'ars_description': description})"
   ]
  },
  {
   "cell_type": "code",
   "execution_count": 6,
   "metadata": {},
   "outputs": [
    {
     "data": {
      "text/plain": [
       "(943, 2)"
      ]
     },
     "execution_count": 6,
     "metadata": {},
     "output_type": "execute_result"
    }
   ],
   "source": [
    "ars_numbers_descriptions.shape"
   ]
  },
  {
   "cell_type": "code",
   "execution_count": 7,
   "metadata": {},
   "outputs": [
    {
     "data": {
      "text/html": [
       "<div>\n",
       "<style scoped>\n",
       "    .dataframe tbody tr th:only-of-type {\n",
       "        vertical-align: middle;\n",
       "    }\n",
       "\n",
       "    .dataframe tbody tr th {\n",
       "        vertical-align: top;\n",
       "    }\n",
       "\n",
       "    .dataframe thead th {\n",
       "        text-align: right;\n",
       "    }\n",
       "</style>\n",
       "<table border=\"1\" class=\"dataframe\">\n",
       "  <thead>\n",
       "    <tr style=\"text-align: right;\">\n",
       "      <th></th>\n",
       "      <th>ars_number</th>\n",
       "      <th>ars_description</th>\n",
       "    </tr>\n",
       "  </thead>\n",
       "  <tbody>\n",
       "    <tr>\n",
       "      <td>0</td>\n",
       "      <td>13-101</td>\n",
       "      <td>Purposes</td>\n",
       "    </tr>\n",
       "    <tr>\n",
       "      <td>1</td>\n",
       "      <td>13-101.01</td>\n",
       "      <td>Additional purposes of the criminal law</td>\n",
       "    </tr>\n",
       "    <tr>\n",
       "      <td>2</td>\n",
       "      <td>13-102</td>\n",
       "      <td>Applicability of title</td>\n",
       "    </tr>\n",
       "    <tr>\n",
       "      <td>3</td>\n",
       "      <td>13-103</td>\n",
       "      <td>Abolition of common law offenses and affirmative defenses; definition</td>\n",
       "    </tr>\n",
       "    <tr>\n",
       "      <td>4</td>\n",
       "      <td>13-104</td>\n",
       "      <td>Rule of construction</td>\n",
       "    </tr>\n",
       "    <tr>\n",
       "      <td>5</td>\n",
       "      <td>13-105</td>\n",
       "      <td>Definitions</td>\n",
       "    </tr>\n",
       "    <tr>\n",
       "      <td>6</td>\n",
       "      <td>13-106</td>\n",
       "      <td>Death of convicted defendant; dismissal of appellate and postconviction proceedings</td>\n",
       "    </tr>\n",
       "    <tr>\n",
       "      <td>7</td>\n",
       "      <td>13-107</td>\n",
       "      <td>Time limitations</td>\n",
       "    </tr>\n",
       "    <tr>\n",
       "      <td>8</td>\n",
       "      <td>13-108</td>\n",
       "      <td>Territorial applicability</td>\n",
       "    </tr>\n",
       "    <tr>\n",
       "      <td>9</td>\n",
       "      <td>13-109</td>\n",
       "      <td>Place of trial</td>\n",
       "    </tr>\n",
       "  </tbody>\n",
       "</table>\n",
       "</div>"
      ],
      "text/plain": [
       "  ars_number  \\\n",
       "0  13-101      \n",
       "1  13-101.01   \n",
       "2  13-102      \n",
       "3  13-103      \n",
       "4  13-104      \n",
       "5  13-105      \n",
       "6  13-106      \n",
       "7  13-107      \n",
       "8  13-108      \n",
       "9  13-109      \n",
       "\n",
       "                                                                        ars_description  \n",
       "0   Purposes                                                                             \n",
       "1   Additional purposes of the criminal law                                              \n",
       "2   Applicability of title                                                               \n",
       "3   Abolition of common law offenses and affirmative defenses; definition                \n",
       "4   Rule of construction                                                                 \n",
       "5   Definitions                                                                          \n",
       "6   Death of convicted defendant; dismissal of appellate and postconviction proceedings  \n",
       "7   Time limitations                                                                     \n",
       "8   Territorial applicability                                                            \n",
       "9   Place of trial                                                                       "
      ]
     },
     "execution_count": 7,
     "metadata": {},
     "output_type": "execute_result"
    }
   ],
   "source": [
    "ars_numbers_descriptions.head(10)"
   ]
  },
  {
   "cell_type": "code",
   "execution_count": 9,
   "metadata": {},
   "outputs": [],
   "source": [
    "ars_numbers_descriptions.to_csv('data/ars_numbers_descriptions.csv', index=False)"
   ]
  }
 ],
 "metadata": {
  "kernelspec": {
   "display_name": "Python 3",
   "language": "python",
   "name": "python3"
  },
  "language_info": {
   "codemirror_mode": {
    "name": "ipython",
    "version": 3
   },
   "file_extension": ".py",
   "mimetype": "text/x-python",
   "name": "python",
   "nbconvert_exporter": "python",
   "pygments_lexer": "ipython3",
   "version": "3.7.3"
  }
 },
 "nbformat": 4,
 "nbformat_minor": 4
}
